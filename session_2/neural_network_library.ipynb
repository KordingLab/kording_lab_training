{
 "cells": [
  {
   "cell_type": "markdown",
   "metadata": {},
   "source": [
    "## Python Library for Neural Network and Deep Learning\n",
    "\n",
    "Most of the neural network libraries in Python requires [Theano](https://github.com/Theano/Theano) as a core library. Here is few easy-to-install and easy-to-implement libraries for neural network:\n",
    "\n",
    "- [Lasagne](https://github.com/Lasagne/Lasagne) (has very good documentation [here]( http://lasagne.readthedocs.org/en/latest/index.html))\n",
    "\n",
    "Here are wrapper libraries for `Lasagne`:\n",
    "- [scikit-neuralnetwork](https://github.com/aigamedev/scikit-neuralnetwork)\n",
    "- [nolearn](https://github.com/dnouri/nolearn) > we'll try `nolearn` today, since it's the simplest one\n",
    "\n",
    "I would suggest starting with **Lasagne** then go for others. Below is how to define each network layers for Lasagne (example from Github)"
   ]
  },
  {
   "cell_type": "markdown",
   "metadata": {},
   "source": [
    "```python\n",
    "import lasagne\n",
    "import theano\n",
    "import theano.tensor as T\n",
    "\n",
    "# create Theano variables for input and target minibatch\n",
    "input_var = T.tensor4('X')\n",
    "target_var = T.ivector('y')\n",
    "\n",
    "# create a small convolutional neural network\n",
    "from lasagne.nonlinearities import leaky_rectify, softmax\n",
    "network = lasagne.layers.InputLayer((None, 3, 32, 32), input_var)\n",
    "network = lasagne.layers.Conv2DLayer(network, 64, (3, 3),\n",
    "                                     nonlinearity=leaky_rectify)\n",
    "network = lasagne.layers.Conv2DLayer(network, 32, (3, 3),\n",
    "                                     nonlinearity=leaky_rectify)\n",
    "network = lasagne.layers.Pool2DLayer(network, (3, 3), stride=2, mode='max')\n",
    "network = lasagne.layers.DenseLayer(lasagne.layers.dropout(network, 0.5),\n",
    "                                    128, nonlinearity=leaky_rectify,\n",
    "                                    W=lasagne.init.Orthogonal())\n",
    "network = lasagne.layers.DenseLayer(lasagne.layers.dropout(network, 0.5),\n",
    "                                    10, nonlinearity=softmax)\n",
    "```"
   ]
  },
  {
   "cell_type": "markdown",
   "metadata": {},
   "source": [
    "## Facebook Human or Robots\n",
    "\n",
    "### Predict if an online bid is made by a machine or a human\n",
    "\n",
    "feature was created using this script: https://github.com/small-yellow-duck/facebook_auction by [small-yellow-duck](https://github.com/small-yellow-duck). You can simply run the code to get feature set or just ask me anytime. In the given feature set, features with `outcome` column > 0 are training set and < 0 are testing set.\n",
    "\n",
    "We divide `X, y` into `X_train, y_train` then use 80% from training set to train classifier and 20% of training set for cross validation\n",
    "\n",
    "Submissions are judged on area under the ROC curve."
   ]
  },
  {
   "cell_type": "code",
   "execution_count": 1,
   "metadata": {
    "collapsed": true
   },
   "outputs": [],
   "source": [
    "import numpy as np\n",
    "import pandas as pd\n",
    "import sklearn.preprocessing as preprocessing\n",
    "from sklearn.metrics import roc_auc_score\n",
    "from sklearn.ensemble import RandomForestClassifier\n",
    "from sklearn.cross_validation import train_test_split"
   ]
  },
  {
   "cell_type": "code",
   "execution_count": 2,
   "metadata": {
    "collapsed": true
   },
   "outputs": [],
   "source": [
    "facebook_feature = pd.read_csv('facebook_feature.csv') # feature"
   ]
  },
  {
   "cell_type": "code",
   "execution_count": 3,
   "metadata": {
    "collapsed": false
   },
   "outputs": [],
   "source": [
    "cutoff = facebook_feature[facebook_feature.outcome>=0].shape[0]\n",
    "y =  facebook_feature['outcome'].values\n",
    "X = preprocessing.normalize(facebook_feature.drop('outcome', 1).values, axis=0)"
   ]
  },
  {
   "cell_type": "code",
   "execution_count": 4,
   "metadata": {
    "collapsed": false
   },
   "outputs": [],
   "source": [
    "y_train = y[0:cutoff]\n",
    "X_train = X[0:cutoff, :]"
   ]
  },
  {
   "cell_type": "code",
   "execution_count": 7,
   "metadata": {
    "collapsed": false
   },
   "outputs": [
    {
     "data": {
      "text/plain": [
       "RandomForestClassifier(bootstrap=True, class_weight=None, criterion='entropy',\n",
       "            max_depth=None, max_features='auto', max_leaf_nodes=None,\n",
       "            min_samples_leaf=1, min_samples_split=2,\n",
       "            min_weight_fraction_leaf=0.0, n_estimators=800, n_jobs=1,\n",
       "            oob_score=False, random_state=0, verbose=0, warm_start=False)"
      ]
     },
     "execution_count": 7,
     "metadata": {},
     "output_type": "execute_result"
    }
   ],
   "source": [
    "clf = RandomForestClassifier(n_estimators=800, max_depth=None, \n",
    "                             min_samples_leaf=1, random_state=0, \n",
    "                             criterion='entropy')\n",
    "X_train_valid, X_valid, y_train_valid, y_valid = train_test_split(X_train, y_train, test_size=0.2)\n",
    "clf.fit(X_train_valid, y_train_valid)"
   ]
  },
  {
   "cell_type": "code",
   "execution_count": 8,
   "metadata": {
    "collapsed": false
   },
   "outputs": [
    {
     "name": "stdout",
     "output_type": "stream",
     "text": [
      "ROC score =  0.967940125112\n"
     ]
    }
   ],
   "source": [
    "y_hat = clf.predict_proba(X_valid)[:,1] # predicted \n",
    "print 'ROC score = ', roc_auc_score(y_valid, y_hat)"
   ]
  },
  {
   "cell_type": "markdown",
   "metadata": {},
   "source": [
    "Here, we will just simply try building Neural network classifier for the same problem using `nolearn` (wrapper for `Lasagne`)\n",
    "\n",
    "http://danielnouri.org/notes/2014/12/17/using-convolutional-neural-nets-to-detect-facial-keypoints-tutorial/"
   ]
  },
  {
   "cell_type": "code",
   "execution_count": 9,
   "metadata": {
    "collapsed": false
   },
   "outputs": [],
   "source": [
    "from nolearn.lasagne import NeuralNet\n",
    "from lasagne import layers\n",
    "from lasagne.updates import nesterov_momentum"
   ]
  },
  {
   "cell_type": "code",
   "execution_count": 10,
   "metadata": {
    "collapsed": false
   },
   "outputs": [],
   "source": [
    "net1 = NeuralNet(\n",
    "    layers=[  # three layers: one hidden layer\n",
    "        ('input', layers.InputLayer),\n",
    "        ('hidden', layers.DenseLayer),\n",
    "        ('output', layers.DenseLayer),\n",
    "        ],\n",
    "    # layer parameters:\n",
    "    input_shape=(None, 408),  # 96x96 input pixels per batch\n",
    "    hidden_num_units=100,  # number of units in hidden layer\n",
    "    output_nonlinearity=None,  # output layer uses identity function\n",
    "    output_num_units=1, \n",
    "\n",
    "    # optimization method:\n",
    "    update=nesterov_momentum,\n",
    "    update_learning_rate=0.01,\n",
    "    update_momentum=0.4,\n",
    "\n",
    "    regression=True,  # flag to indicate we're dealing with regression problem\n",
    "    max_epochs=400,  # we want to train this many epochs\n",
    "    verbose=0,\n",
    "    )"
   ]
  },
  {
   "cell_type": "code",
   "execution_count": 11,
   "metadata": {
    "collapsed": false
   },
   "outputs": [
    {
     "data": {
      "text/plain": [
       "NeuralNet(X_tensor_type=None,\n",
       "     batch_iterator_test=<nolearn.lasagne.base.BatchIterator object at 0x109e67c50>,\n",
       "     batch_iterator_train=<nolearn.lasagne.base.BatchIterator object at 0x109e67bd0>,\n",
       "     custom_score=None, hidden_num_units=100, input_shape=(None, 408),\n",
       "     layers=[('input', <class 'lasagne.layers.input.InputLayer'>), ('hidden', <class 'lasagne.layers.dense.DenseLayer'>), ('output', <class 'lasagne.layers.dense.DenseLayer'>)],\n",
       "     loss=None, max_epochs=400, more_params={},\n",
       "     objective=<function objective at 0x109e645f0>,\n",
       "     objective_loss_function=<function squared_error at 0x116d6c938>,\n",
       "     on_batch_finished=[], on_epoch_finished=[], on_training_finished=[],\n",
       "     on_training_started=[], output_nonlinearity=None, output_num_units=1,\n",
       "     regression=True,\n",
       "     train_split=<nolearn.lasagne.base.TrainSplit object at 0x109e67c90>,\n",
       "     update=<function nesterov_momentum at 0x116d77050>,\n",
       "     update_learning_rate=0.01, update_momentum=0.4,\n",
       "     use_label_encoder=False, verbose=0,\n",
       "     y_tensor_type=TensorType(float64, matrix))"
      ]
     },
     "execution_count": 11,
     "metadata": {},
     "output_type": "execute_result"
    }
   ],
   "source": [
    "net1.fit(X_train_valid, y_train_valid)"
   ]
  },
  {
   "cell_type": "code",
   "execution_count": 12,
   "metadata": {
    "collapsed": false
   },
   "outputs": [],
   "source": [
    "y_hat_nn = net1.predict_proba(X_valid) # predict probability output"
   ]
  },
  {
   "cell_type": "code",
   "execution_count": 13,
   "metadata": {
    "collapsed": false
   },
   "outputs": [
    {
     "name": "stdout",
     "output_type": "stream",
     "text": [
      "ROC score =  0.813114387846\n"
     ]
    }
   ],
   "source": [
    "print 'ROC score = ', roc_auc_score(y_valid, y_hat_nn)"
   ]
  }
 ],
 "metadata": {
  "kernelspec": {
   "display_name": "Python 2",
   "language": "python",
   "name": "python2"
  },
  "language_info": {
   "codemirror_mode": {
    "name": "ipython",
    "version": 2
   },
   "file_extension": ".py",
   "mimetype": "text/x-python",
   "name": "python",
   "nbconvert_exporter": "python",
   "pygments_lexer": "ipython2",
   "version": "2.7.10"
  }
 },
 "nbformat": 4,
 "nbformat_minor": 0
}

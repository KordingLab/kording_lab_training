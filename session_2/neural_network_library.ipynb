{
 "cells": [
  {
   "cell_type": "markdown",
   "metadata": {},
   "source": [
    "## Python Library for Neural Network"
   ]
  },
  {
   "cell_type": "markdown",
   "metadata": {},
   "source": [
    "Basically, most of the neural network libraries in Python requires [Theano](https://github.com/Theano/Theano) as a core library. Here is few easy-to-install and easy-to-implement libraries for neural network:\n",
    "\n",
    "- [Lasagne](https://github.com/Lasagne/Lasagne) (has very good documentation [here]( http://lasagne.readthedocs.org/en/latest/index.html))\n",
    "\n",
    "Here are wrapper libraries for `Lasagne`:\n",
    "- [scikit-neuralnetwork](https://github.com/aigamedev/scikit-neuralnetwork)\n",
    "- [nolearn](https://github.com/dnouri/nolearn)\n",
    "\n",
    "I would suggest starting with **Lasagne** then go for others. Below is how to define each network layers for Lasagne (example from Github)"
   ]
  },
  {
   "cell_type": "markdown",
   "metadata": {},
   "source": [
    "```python\n",
    "import lasagne\n",
    "import theano\n",
    "import theano.tensor as T\n",
    "\n",
    "# create Theano variables for input and target minibatch\n",
    "input_var = T.tensor4('X')\n",
    "target_var = T.ivector('y')\n",
    "\n",
    "# create a small convolutional neural network\n",
    "from lasagne.nonlinearities import leaky_rectify, softmax\n",
    "network = lasagne.layers.InputLayer((None, 3, 32, 32), input_var)\n",
    "network = lasagne.layers.Conv2DLayer(network, 64, (3, 3),\n",
    "                                     nonlinearity=leaky_rectify)\n",
    "network = lasagne.layers.Conv2DLayer(network, 32, (3, 3),\n",
    "                                     nonlinearity=leaky_rectify)\n",
    "network = lasagne.layers.Pool2DLayer(network, (3, 3), stride=2, mode='max')\n",
    "network = lasagne.layers.DenseLayer(lasagne.layers.dropout(network, 0.5),\n",
    "                                    128, nonlinearity=leaky_rectify,\n",
    "                                    W=lasagne.init.Orthogonal())\n",
    "network = lasagne.layers.DenseLayer(lasagne.layers.dropout(network, 0.5),\n",
    "                                    10, nonlinearity=softmax)\n",
    "```"
   ]
  },
  {
   "cell_type": "code",
   "execution_count": null,
   "metadata": {
    "collapsed": true
   },
   "outputs": [],
   "source": []
  }
 ],
 "metadata": {
  "kernelspec": {
   "display_name": "Python 2",
   "language": "python",
   "name": "python2"
  },
  "language_info": {
   "codemirror_mode": {
    "name": "ipython",
    "version": 2
   },
   "file_extension": ".py",
   "mimetype": "text/x-python",
   "name": "python",
   "nbconvert_exporter": "python",
   "pygments_lexer": "ipython2",
   "version": "2.7.10"
  }
 },
 "nbformat": 4,
 "nbformat_minor": 0
}

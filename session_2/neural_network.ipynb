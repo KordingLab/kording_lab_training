{
 "cells": [
  {
   "cell_type": "markdown",
   "metadata": {
    "collapsed": true
   },
   "source": [
    "## Neural Network for Classification problem\n",
    "\n",
    "**Reference** Andrew Ng, Machine Learning, Coursera notes"
   ]
  },
  {
   "cell_type": "markdown",
   "metadata": {},
   "source": [
    "##  Definitions\n",
    "\n",
    "![alt text](neural_nets.png)\n",
    "\n",
    "Suppose we have training set \n",
    "$$\\{(\\mathbf{x}^{(1)}, \\mathbf{y}^{(1)}), (\\mathbf{x}^{(2)}, \\mathbf{y}^{(2)}), \\ldots, (\\mathbf{x}^{(m)}, \\mathbf{y}^{(m)}) \\}$$\n",
    "where $L = \\text{total no. of layers in network}$, $s_l = \\text{no. of units in layer }l$ and $m$ = length of training set\n",
    "\n",
    "that is, $s_1$ is number of units in layer 1 (example below is 3)\n",
    "\n",
    "$j$ defined as node $j$"
   ]
  },
  {
   "cell_type": "markdown",
   "metadata": {},
   "source": [
    "## Simple one layer model\n",
    "\n",
    "![alt text](neural_nets_simple.png)\n",
    "\n",
    "$$y = \\cfrac{1}{1 + \\exp(\\theta_1 x_1 + \\theta_2 x_2 + \\theta_3 x_3)} =  \\cfrac{1}{1 + \\exp(\\mathbf{\\theta}^\\top \\mathbf{x})}$$"
   ]
  },
  {
   "cell_type": "markdown",
   "metadata": {},
   "source": [
    "### Output for classification\n",
    "\n",
    "For binary class\n",
    "\n",
    "$$y = 0 \\text{ or } 1$$\n",
    "\n",
    "For Multiclass classification\n",
    "\n",
    "$$\\mathbf{y} = \\begin{bmatrix} 1\\\\0\\\\ \\ldots \\\\0 \\end{bmatrix}, \\begin{bmatrix} 0 \\\\ 1 \\\\ \\ldots \\\\0 \\end{bmatrix}, \\ldots$$"
   ]
  },
  {
   "cell_type": "markdown",
   "metadata": {},
   "source": [
    "##  Cost function\n",
    "\n",
    "**Logistic Regression with regularization**\n",
    "\n",
    "$$J(\\theta) = -\\frac{1}{m} \\left[ \\sum_{i=1}^m y^{(i)} \\log h_{\\theta}(x^{(i)}) + (1 - y^{(i)}) \\log(1 - h_{\\theta}(x^{(i)}) )) \\right] + \\frac{\\lambda}{2m} \\sum_{j=1}^n \\theta_{j}^2 $$ \n",
    "\n",
    "**Neural network**\n",
    "\n",
    "$$J(\\theta) = -\\frac{1}{m} \\left[ \\sum_{i=1}^m \\sum_{k=1}^{K} y_{k}^{(i)} \\log h_{\\theta}(x^{(i)})_k + (1 - y_{k}^{(i)}) \\log(1 - h_{\\theta}(x^{(i)})_{k} )) \\right] + \\frac{\\lambda}{2m} \\sum_{l=1}^{L-1} \\sum_{i=1}^{s_l} \\sum_{j=1}^{s_l + 1} (\\Theta_{ji}^{(l)})^2 $$ \n",
    "\n",
    "*note* that we exclude $\\Theta_{i0}$ when we compute regularization terms\n",
    "\n",
    "We want to minimize cost function $$\\min_{\\theta} J(\\theta)$$"
   ]
  },
  {
   "cell_type": "markdown",
   "metadata": {},
   "source": [
    "## Example of 4 layers\n",
    "\n",
    "**Forward propagation**\n",
    "\n",
    "\\begin{align}\n",
    "a^{(1)} &= x\\\\\n",
    "z^{(2)} &= \\Theta^{(1)}a^{(1)}\\\\\n",
    "a^{(2)} &= g(z^{2}) \\text{ (add $a_0^{(2)}$)}\\\\\n",
    "z^{(3)} &= \\Theta^{(2)} a^{(2)}\\\\\n",
    "a^{(3)} &= g(z^{(3)})  \\text{ (add $a_0^{(3)}$)}\\\\\n",
    "z^{(4)} &= \\Theta^{(3)} a^{(3)}\\\\\n",
    "a^{(4)} &= h_{\\Theta}(x) = g(z^{(4)})\n",
    "\\end{align}"
   ]
  },
  {
   "cell_type": "markdown",
   "metadata": {},
   "source": [
    "$\\delta_j^{(l)}$ is error of node $j$ in layer $l$"
   ]
  },
  {
   "cell_type": "markdown",
   "metadata": {},
   "source": [
    "**Back propagation**\n",
    "\\begin{align}\n",
    "\\delta^{(4)} &= a^{(4)} - y\\\\\n",
    "\\delta^{(3)} &= (\\Theta^{(3)})^\\top \\delta^{(4)}.* g'(z^{(3)}) \\\\\n",
    "\\delta^{(2)} &= (\\Theta^{(2)})^\\top \\delta^{(3)}.* g'(z^{(2)})\n",
    "\\end{align}\n",
    "\n",
    "where we can compute $g'(z^{(3)}) = a^{(3)}.*(1 - a^{(3)})$, $g'(z^{(2)}) = a^{(2)}.*(1 - a^{(2)})$"
   ]
  },
  {
   "cell_type": "code",
   "execution_count": 1,
   "metadata": {
    "collapsed": false
   },
   "outputs": [
    {
     "name": "stdout",
     "output_type": "stream",
     "text": [
      "Size of X and y:  (5000, 400) (5000, 1)\n"
     ]
    }
   ],
   "source": [
    "import numpy as np\n",
    "from scipy.io import loadmat\n",
    "mnist = loadmat('mnist_data.mat')\n",
    "X = mnist['X']\n",
    "y = mnist['y']\n",
    "print \"Size of X and y: \", X.shape, y.shape"
   ]
  },
  {
   "cell_type": "code",
   "execution_count": 2,
   "metadata": {
    "collapsed": true
   },
   "outputs": [],
   "source": [
    "def sigmoid(z):\n",
    "    g = 1.0/(1.0 + np.exp(-z))\n",
    "    return g\n",
    "\n",
    "def sigmoid_grad(z):\n",
    "    g = sigmoid(z)*(1 - sigmoid(z))\n",
    "    return g"
   ]
  },
  {
   "cell_type": "markdown",
   "metadata": {},
   "source": [
    "## Back propagation algorithm\n",
    "\n",
    "$\\Delta_{ij}^{(l)} = 0$ for all $l, i, j$\n",
    "\n",
    "for $i = 1 \\text{ to } m:$ (every training examples)\n",
    "\n",
    "- set $a^{(1)} = x^{(i)}$\n",
    "- perform forward propagation to compute $a^{(l)}$\n",
    "- compute $\\delta^{(L)} = a^{(L)} - y^{(i)}$\n",
    "- compute $\\delta^{(L-1)}, \\delta^{(L-2)}, \\ldots, \\delta^{(2)}$ (no $\\delta^{(1)}$ because it's input layer)\n",
    "- $\\Delta_{ij}^{(l)} = \\Delta_{ij}^{(l)} + a_j^{(l)} \\delta_i^{(l+1)}$ or $\\Delta^{(l)} = \\Delta^{(l)} + \\delta^{(l+1)} (a^{(l)})^\\top$"
   ]
  },
  {
   "cell_type": "markdown",
   "metadata": {},
   "source": [
    "\n",
    "\n",
    "$D_{ij}^{(l)} = \\frac{1}{m} \\Delta_{ij}^{(l)} + \\lambda \\Theta_{ij}^{(l)}$\n",
    "\n",
    "$D_{ij}^{(l)} = \\frac{1}{m} \\Delta_{ij}^{(l)}$\n",
    "\n",
    "where we can show that $\\frac{\\partial}{\\partial \\Theta_{ij}^{(l)}} J(\\Theta) = D_{ij}^{(l)}$"
   ]
  },
  {
   "cell_type": "markdown",
   "metadata": {},
   "source": [
    "**Example**\n",
    "\n",
    "We use sample MNIST data which each has 20 $\\times$ 20 pixels. Therefore, we need 400 input layer units. We use only 3 layers which input then map to 25 units in second layers. The output has 10 classes (number from 0 to 9) which means 10 units in third layers."
   ]
  },
  {
   "cell_type": "code",
   "execution_count": 3,
   "metadata": {
    "collapsed": false
   },
   "outputs": [
    {
     "name": "stdout",
     "output_type": "stream",
     "text": [
      "(25, 401) (10, 26)\n"
     ]
    }
   ],
   "source": [
    "W = loadmat('weights.mat')\n",
    "Theta1 = W['Theta1']\n",
    "Theta2 = W['Theta2']\n",
    "print Theta1.shape, Theta2.shape"
   ]
  },
  {
   "cell_type": "markdown",
   "metadata": {},
   "source": [
    "**Initialize neural network parameters**\n",
    "\n",
    "One way to initialize $\\Theta^{(i)}$ is to generate uniformly distributed values between $[ -\\epsilon_{init}, \\epsilon_{init}]$"
   ]
  },
  {
   "cell_type": "code",
   "execution_count": 4,
   "metadata": {
    "collapsed": true
   },
   "outputs": [],
   "source": [
    "def init_weight(L_in, L_out):\n",
    "    \"\"\"Randomly initialize the weights of a layer\"\"\"\n",
    "    epsilon_init = 0.12\n",
    "    W = np.random.rand(L_out, 1+L_in)*2*epsilon_init - epsilon_init\n",
    "    return W"
   ]
  },
  {
   "cell_type": "code",
   "execution_count": 5,
   "metadata": {
    "collapsed": true
   },
   "outputs": [],
   "source": [
    "def compute_cost_grad(Theta1, Theta2, X, y, lm=1.0):\n",
    "    \"\"\"\n",
    "    Compute cost and gradient of NN parameters for one iteration\n",
    "    \"\"\"\n",
    "    # initialize few parameters\n",
    "    n, m = X.shape\n",
    "    J = 0\n",
    "    Theta1_grad = np.zeros(Theta1.shape)\n",
    "    Theta2_grad = np.zeros(Theta2.shape)\n",
    "    D1 = np.zeros(Theta1.shape)\n",
    "    D2 = np.zeros(Theta2.shape)\n",
    "    \n",
    "    # forward propagation\n",
    "    a1 = np.concatenate((np.ones((n,1)), X), axis=1)\n",
    "    z2 = a1.dot(Theta1.T)\n",
    "    a2 = sigmoid(z2)\n",
    "    a2 = np.concatenate((np.ones((n,1)), a2), axis=1)\n",
    "    z3 = a2.dot(Theta2.T)\n",
    "    a3 = sigmoid(z3)\n",
    "    h = a3\n",
    "    \n",
    "    # tranform y to Y, sparse format\n",
    "    Y = np.zeros(h.shape)\n",
    "    for i in range(n):\n",
    "        Y[i, y[i]-1] = 1\n",
    "    \n",
    "    # compute cost\n",
    "    J = -(1.0/n)*np.sum(np.sum(Y*np.log(h) + (1 - Y)*np.log(1 - h))) + \\\n",
    "         (lm/(2.0*n))*(np.sum(np.sum(Theta1[:,1::]**2)) + np.sum(np.sum(Theta2[:,1::]**2)))\n",
    "    \n",
    "    # back propagation\n",
    "    delta3 = a3 - Y\n",
    "    delta2 = delta3.dot(Theta2[:, 1::])*sigmoid_grad(z2)\n",
    "    \n",
    "    D1 = D1 + (delta2.T).dot(a1)\n",
    "    Theta1_grad[:,0] = (1.0/m)*D1[:,0]\n",
    "    Theta1_grad[:,1::] = (1.0/m)*D1[:,1::] + (lm/m)*Theta1[:,1::]\n",
    "    \n",
    "    D2 = D2 + (delta3.T).dot(a2)\n",
    "    Theta2_grad[:,0] = (1.0/m)*D2[:,0]\n",
    "    Theta2_grad[:,1::] = (1.0/m)*D2[:,1::] + (lm/m)*Theta2[:,1::]\n",
    "    \n",
    "    return J, Theta1_grad, Theta2_grad"
   ]
  },
  {
   "cell_type": "code",
   "execution_count": 6,
   "metadata": {
    "collapsed": false
   },
   "outputs": [
    {
     "name": "stdout",
     "output_type": "stream",
     "text": [
      "The cost function given Theta1 and Theta2 =  0.383769859091\n"
     ]
    }
   ],
   "source": [
    "J, Theta1_grad, Theta2_grad = compute_cost_grad(Theta1, Theta2, X, y)\n",
    "print 'The cost function given Theta1 and Theta2 = ', J"
   ]
  },
  {
   "cell_type": "code",
   "execution_count": 7,
   "metadata": {
    "collapsed": true
   },
   "outputs": [],
   "source": [
    "def predict(Theta1, Theta2, X):\n",
    "    n, m = X.shape\n",
    "    h1 = sigmoid(np.concatenate((np.ones((n,1)), X), axis=1).dot(Theta1.T))\n",
    "    h2 = sigmoid(np.concatenate((np.ones((n,1)), h1), axis=1).dot(Theta2.T))\n",
    "    p = np.atleast_2d(np.argmax(h2, axis=1) + 1).T\n",
    "    return p"
   ]
  },
  {
   "cell_type": "markdown",
   "metadata": {},
   "source": [
    "## Work flow for computing final $\\Theta_1, \\Theta_2$\n",
    "\n",
    "To actually minimize the cost function, typically use `fmincon` or `fmincg` to pass cost and gradient to the function i.e.\n",
    "\n",
    "`[nn_params, cost] = fminunc(compute_cost, initial_nn_params);`\n",
    "\n",
    "However, we can try simple gradient descent to see the convolution of cost over iteration"
   ]
  },
  {
   "cell_type": "code",
   "execution_count": 8,
   "metadata": {
    "collapsed": true
   },
   "outputs": [],
   "source": [
    "import matplotlib.pyplot as plt\n",
    "import seaborn as sns\n",
    "sns.set_style(\"whitegrid\")\n",
    "%matplotlib inline"
   ]
  },
  {
   "cell_type": "code",
   "execution_count": 9,
   "metadata": {
    "collapsed": false
   },
   "outputs": [],
   "source": [
    "# use simple gradient descent algorithm to get final Theta1 and Theta2\n",
    "n_iter = 1000\n",
    "epsilon = 0.3\n",
    "Theta1 = init_weight(400, 25)\n",
    "Theta2 = init_weight(25, 10)\n",
    "J_all = []\n",
    "\n",
    "for i in range(n_iter):\n",
    "    J, Theta1_grad, Theta2_grad = compute_cost_grad(Theta1, Theta2, X, y)\n",
    "    Theta1 = (Theta1 - epsilon*Theta1_grad)\n",
    "    Theta2 = (Theta2 - epsilon*Theta2_grad)\n",
    "    J_all.append(J)"
   ]
  },
  {
   "cell_type": "code",
   "execution_count": 10,
   "metadata": {
    "collapsed": false
   },
   "outputs": [
    {
     "name": "stdout",
     "output_type": "stream",
     "text": [
      "Training accuracy =  95.86\n"
     ]
    }
   ],
   "source": [
    "# using Theta1, Theta2 from gradient descent\n",
    "y_pred = predict(Theta1, Theta2, X)\n",
    "print 'Training accuracy = ', np.mean(y == y_pred)*100"
   ]
  },
  {
   "cell_type": "code",
   "execution_count": 11,
   "metadata": {
    "collapsed": false
   },
   "outputs": [
    {
     "name": "stdout",
     "output_type": "stream",
     "text": [
      "Training accuracy =  97.52\n"
     ]
    }
   ],
   "source": [
    "# converged Theta1, Theta2 from fmincg\n",
    "W = loadmat('weights.mat')\n",
    "Theta1 = W['Theta1']\n",
    "Theta2 = W['Theta2']\n",
    "y_pred = predict(Theta1, Theta2, X)\n",
    "print 'Training accuracy = ', np.mean(y == y_pred)*100"
   ]
  },
  {
   "cell_type": "code",
   "execution_count": 12,
   "metadata": {
    "collapsed": false
   },
   "outputs": [
    {
     "data": {
      "image/png": "[encoded data removed]",
      "text/plain": [
       "<matplotlib.figure.Figure at 0x1079e2dd0>"
      ]
     },
     "metadata": {},
     "output_type": "display_data"
    }
   ],
   "source": [
    "plt.plot(range(n_iter), J_all)\n",
    "plt.xlabel('Iteration')\n",
    "plt.ylabel('Cost (J)')\n",
    "plt.title('Cost function over iteration')\n",
    "plt.show()"
   ]
  }
 ],
 "metadata": {
  "kernelspec": {
   "display_name": "Python 2",
   "language": "python",
   "name": "python2"
  },
  "language_info": {
   "codemirror_mode": {
    "name": "ipython",
    "version": 2
   },
   "file_extension": ".py",
   "mimetype": "text/x-python",
   "name": "python",
   "nbconvert_exporter": "python",
   "pygments_lexer": "ipython2",
   "version": "2.7.10"
  }
 },
 "nbformat": 4,
 "nbformat_minor": 0
}

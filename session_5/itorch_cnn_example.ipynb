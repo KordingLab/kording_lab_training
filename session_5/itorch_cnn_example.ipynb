{
 "metadata": {
  "language": "lua",
  "name": "",
  "signature": "sha256:fb8cce8f280398a4572077dad84b38bbd1644a3529b3c3d70f9c77c9eca0a1ad"
 },
 "nbformat": 3,
 "nbformat_minor": 0,
 "worksheets": [
  {
   "cells": [
    {
     "cell_type": "heading",
     "level": 2,
     "metadata": {},
     "source": [
      "Basics"
     ]
    },
    {
     "cell_type": "code",
     "collapsed": false,
     "input": [
      "-- Multiply two matrices"
     ],
     "language": "python",
     "metadata": {},
     "outputs": [],
     "prompt_number": 10
    },
    {
     "cell_type": "code",
     "collapsed": false,
     "input": [
      "a = torch.Tensor(5,3)\n",
      "a = torch.rand(5,3)\n",
      "b = torch.rand(3,4)"
     ],
     "language": "python",
     "metadata": {},
     "outputs": [],
     "prompt_number": 2
    },
    {
     "cell_type": "code",
     "collapsed": false,
     "input": [
      "print(a)\n",
      "print(b)"
     ],
     "language": "python",
     "metadata": {},
     "outputs": [
      {
       "metadata": {},
       "output_type": "pyout",
       "prompt_number": 4,
       "text": [
        " 0.5837  0.1081  0.6415\n",
        " 0.2147  0.2866  0.8628\n",
        " 0.4321  0.0375  0.7258\n",
        " 0.4484  0.4300  0.3027\n",
        " 0.0718  0.6086  0.9640\n",
        "[torch.DoubleTensor of size 5x3]\n",
        "\n",
        " 0.8640  0.8738  0.0283  0.0073\n",
        " 0.0060  0.8684  0.5872  0.7892\n",
        " 0.5011  0.9011  0.3026  0.8903\n",
        "[torch.DoubleTensor of size 3x4]\n",
        "\n"
       ]
      }
     ],
     "prompt_number": 4
    },
    {
     "cell_type": "code",
     "collapsed": false,
     "input": [
      "a*b"
     ],
     "language": "python",
     "metadata": {},
     "outputs": [
      {
       "metadata": {},
       "output_type": "pyout",
       "prompt_number": 5,
       "text": [
        " 0.8264  1.1819  0.2741  0.6607\n",
        " 0.6196  1.2140  0.4354  0.9960\n",
        " 0.7372  1.0642  0.2538  0.6790\n",
        " 0.5417  1.0379  0.3567  0.6121\n",
        " 0.5487  1.4600  0.6511  1.3392\n",
        "[torch.DoubleTensor of size 5x4]\n",
        "\n"
       ]
      }
     ],
     "prompt_number": 5
    },
    {
     "cell_type": "heading",
     "level": 2,
     "metadata": {},
     "source": [
      "Neural Networks with Torch\n"
     ]
    },
    {
     "cell_type": "code",
     "collapsed": false,
     "input": [
      "require 'nn'; -- this works like an import command in Python"
     ],
     "language": "python",
     "metadata": {},
     "outputs": [],
     "prompt_number": 2
    },
    {
     "cell_type": "heading",
     "level": 3,
     "metadata": {},
     "source": [
      "Defining the net's architecture"
     ]
    },
    {
     "cell_type": "code",
     "collapsed": false,
     "input": [
      "-- Let's do this for the earliest deep net: Le Net\n",
      "\n",
      "-- First specify a \"container\" for the net\n",
      "net = nn.Sequential()\n",
      "\n",
      "-- First convolutional layer with:\n",
      "-- 3 input [the RGB image channels]\n",
      "-- 6 outputs [of conv filters]\n",
      "-- 5 x 5 convolutional kernel\n",
      "net:add(nn.SpatialConvolution(3, 6, 5, 5))\n",
      "\n",
      "-- Rectified linear unit: a pointwise nonlinearity\n",
      "net:add(nn.ReLU())\n",
      "\n",
      "-- Max pooling over 2 x 2 windows\n",
      "net:add(nn.SpatialMaxPooling(2,2,2,2))\n",
      "\n",
      "-- Second convolutional layer with:\n",
      "-- 6 inputs [previous layer's maxpooled filters]\n",
      "-- 16 outputs [of conv filters]\n",
      "-- 5 x 5 convolutional kernel\n",
      "net:add(nn.SpatialConvolution(6, 16, 5, 5))\n",
      "\n",
      "-- ReLU nonlinearity again\n",
      "net:add(nn.ReLU())\n",
      "\n",
      "-- Max pooling again\n",
      "net:add(nn.SpatialMaxPooling(2,2,2,2))\n",
      "\n",
      "-- Reshape from a 3D tensor of 16x5x5 into 1D tensor of 16*5*5\n",
      "net:add(nn.View(16*5*5))                    \n",
      "\n",
      "-- First fully connected layer (matrix multiplication between input and weights)\n",
      "net:add(nn.Linear(16*5*5, 120))             \n",
      "net:add(nn.ReLU())                       -- non-linearity\n",
      "\n",
      "-- Second fully connected layer\n",
      "net:add(nn.Linear(120, 84))\n",
      "net:add(nn.ReLU())                       -- non-linearity \n",
      "\n",
      "-- Output layer with:\n",
      "-- 10 outputs: in this case (in this case, 10 classes)\n",
      "net:add(nn.Linear(84, 10))                   \n",
      "\n",
      "-- Convert the output to a log-probability with softmax. Typical for classification problems\n",
      "net:add(nn.LogSoftMax())                     \n",
      "\n",
      "-- Print the architecture\n",
      "print('Lenet5\\n' .. net:__tostring());\n"
     ],
     "language": "python",
     "metadata": {},
     "outputs": [
      {
       "metadata": {},
       "output_type": "pyout",
       "prompt_number": 4,
       "text": [
        "Lenet5\n",
        "nn.Sequential {\n",
        "  [input -> (1) -> (2) -> (3) -> (4) -> (5) -> (6) -> (7) -> (8) -> (9) -> (10) -> (11) -> (12) -> (13) -> output]\n",
        "  (1): nn.SpatialConvolution(3 -> 6, 5x5)\n",
        "  (2): nn.ReLU\n",
        "  (3): nn.SpatialMaxPooling(2,2,2,2)\n",
        "  (4): nn.SpatialConvolution(6 -> 16, 5x5)\n",
        "  (5): nn.ReLU\n",
        "  (6): nn.SpatialMaxPooling(2,2,2,2)\n",
        "  (7): nn.View\n",
        "  (8): nn.Linear(400 -> 120)\n",
        "  (9): nn.ReLU\n",
        "  (10): nn.Linear(120 -> 84)\n",
        "  (11): nn.ReLU\n",
        "  (12): nn.Linear(84 -> 10)\n",
        "  (13): nn.LogSoftMax\n",
        "}\t\n"
       ]
      }
     ],
     "prompt_number": 4
    },
    {
     "cell_type": "heading",
     "level": 3,
     "metadata": {},
     "source": [
      "Load and normalize data"
     ]
    },
    {
     "cell_type": "code",
     "collapsed": false,
     "input": [
      "-- os.execute('wget -c https://s3.amazonaws.com/torch7/data/cifar10torchsmall.zip')\n",
      "-- os.execute('unzip cifar10torchsmall.zip')\n",
      "trainset = torch.load('cifar10-train.t7')\n",
      "testset = torch.load('cifar10-test.t7')\n",
      "classes = {'airplane', 'automobile', 'bird', 'cat',\n",
      "           'deer', 'dog', 'frog', 'horse', 'ship', 'truck'}\n"
     ],
     "language": "python",
     "metadata": {},
     "outputs": [],
     "prompt_number": 5
    },
    {
     "cell_type": "code",
     "collapsed": false,
     "input": [
      "-- Some hacks to make indexing easier\n",
      "\n",
      "-- ignore setmetatable for now, it is a feature beyond the scope of this tutorial. It sets the index operator.\n",
      "setmetatable(trainset, \n",
      "    {__index = function(t, i) \n",
      "                    return {t.data[i], t.label[i]} \n",
      "                end}\n",
      ");\n",
      "trainset.data = trainset.data:double() -- convert the data from a ByteTensor to a DoubleTensor.\n",
      "\n",
      "function trainset:size() \n",
      "    return self.data:size(1) \n",
      "end\n",
      "\n"
     ],
     "language": "python",
     "metadata": {},
     "outputs": [],
     "prompt_number": 7
    },
    {
     "cell_type": "code",
     "collapsed": false,
     "input": [
      "print(trainset:size()) -- just to test"
     ],
     "language": "python",
     "metadata": {},
     "outputs": [
      {
       "metadata": {},
       "output_type": "pyout",
       "prompt_number": 8,
       "text": [
        "10000\t\n"
       ]
      }
     ],
     "prompt_number": 8
    },
    {
     "cell_type": "code",
     "collapsed": false,
     "input": [
      "-- Normalize the data to have zero mean and unit variance\n",
      "mean = {} -- store the mean, to normalize the test set in the future\n",
      "stdv  = {} -- store the standard-deviation for the future\n",
      "for i=1,3 do -- over each image channel\n",
      "    mean[i] = trainset.data[{ {}, {i}, {}, {}  }]:mean() -- mean estimation\n",
      "    print('Channel ' .. i .. ', Mean: ' .. mean[i])\n",
      "    trainset.data[{ {}, {i}, {}, {}  }]:add(-mean[i]) -- mean subtraction\n",
      "    \n",
      "    stdv[i] = trainset.data[{ {}, {i}, {}, {}  }]:std() -- std estimation\n",
      "    print('Channel ' .. i .. ', Standard Deviation: ' .. stdv[i])\n",
      "    trainset.data[{ {}, {i}, {}, {}  }]:div(stdv[i]) -- std scaling\n",
      "end"
     ],
     "language": "python",
     "metadata": {},
     "outputs": [
      {
       "metadata": {},
       "output_type": "pyout",
       "prompt_number": 15,
       "text": [
        "Channel 1, Mean: 125.83175029297\t\n"
       ]
      },
      {
       "metadata": {},
       "output_type": "pyout",
       "prompt_number": 15,
       "text": [
        "Channel 1, Standard Deviation: 63.143400842609\t\n"
       ]
      },
      {
       "metadata": {},
       "output_type": "pyout",
       "prompt_number": 15,
       "text": [
        "Channel 2, Mean: 123.26066621094\t\n"
       ]
      },
      {
       "metadata": {},
       "output_type": "pyout",
       "prompt_number": 15,
       "text": [
        "Channel 2, Standard Deviation: 62.369209019002\t\n"
       ]
      },
      {
       "metadata": {},
       "output_type": "pyout",
       "prompt_number": 15,
       "text": [
        "Channel 3, Mean: 114.03068681641\t\n"
       ]
      },
      {
       "metadata": {},
       "output_type": "pyout",
       "prompt_number": 15,
       "text": [
        "Channel 3, Standard Deviation: 66.965808411114\t\n"
       ]
      }
     ],
     "prompt_number": 15
    },
    {
     "cell_type": "heading",
     "level": 3,
     "metadata": {},
     "source": [
      "Let's do a forward pass through the net"
     ]
    },
    {
     "cell_type": "code",
     "collapsed": false,
     "input": [
      "-- pass a random tensor as input to the network\n",
      "input = torch.rand(3,32,32)\n",
      "\n",
      "-- the forward function computes a forward pass\n",
      "output = net:forward(input)\n",
      "print(output)"
     ],
     "language": "python",
     "metadata": {},
     "outputs": [
      {
       "metadata": {},
       "output_type": "pyout",
       "prompt_number": 10,
       "text": [
        "-2.1781\n",
        "-2.3585\n",
        "-2.3978\n",
        "-2.3014\n",
        "-2.3954\n",
        "-2.3283\n",
        "-2.0875\n",
        "-2.4316\n",
        "-2.2705\n",
        "-2.3289\n",
        "[torch.DoubleTensor of size 10]\n",
        "\n"
       ]
      }
     ],
     "prompt_number": 10
    },
    {
     "cell_type": "heading",
     "level": 3,
     "metadata": {},
     "source": [
      "Let's define a loss function"
     ]
    },
    {
     "cell_type": "code",
     "collapsed": false,
     "input": [
      "-- This is the negative log likelihood loss function\n",
      "criterion = nn.ClassNLLCriterion()\n"
     ],
     "language": "python",
     "metadata": {},
     "outputs": [],
     "prompt_number": 9
    },
    {
     "cell_type": "heading",
     "level": 3,
     "metadata": {},
     "source": [
      "Let's do a backward pass through the net"
     ]
    },
    {
     "cell_type": "code",
     "collapsed": false,
     "input": [
      "-- The loss function class comes with two functions, forward and backward\n",
      "-- Let's say the groundtruth was class number: 3\n",
      "\n",
      "-- Let's use them to get the derivative of the loss function with respect to the net's output\n",
      "criterion:forward(output, 3)\n",
      "gradients = criterion:backward(output, 3)"
     ],
     "language": "python",
     "metadata": {},
     "outputs": [],
     "prompt_number": 11
    },
    {
     "cell_type": "code",
     "collapsed": false,
     "input": [
      "-- Now let's get the gradients w.r.t all other parameters of the net, right back to the inputs\n",
      "gradInput = net:backward(input, gradients)"
     ],
     "language": "python",
     "metadata": {},
     "outputs": [],
     "prompt_number": 13
    },
    {
     "cell_type": "heading",
     "level": 3,
     "metadata": {},
     "source": [
      "OK, we've got everything we need to train the net"
     ]
    },
    {
     "cell_type": "code",
     "collapsed": false,
     "input": [
      "trainer = nn.StochasticGradient(net, criterion)\n",
      "\n",
      "trainer.learningRate = 0.001\n",
      "trainer.maxIteration = 5 -- just do 5 epochs of training."
     ],
     "language": "python",
     "metadata": {},
     "outputs": [],
     "prompt_number": 14
    },
    {
     "cell_type": "code",
     "collapsed": false,
     "input": [],
     "language": "python",
     "metadata": {},
     "outputs": []
    },
    {
     "cell_type": "code",
     "collapsed": false,
     "input": [],
     "language": "python",
     "metadata": {},
     "outputs": []
    },
    {
     "cell_type": "code",
     "collapsed": false,
     "input": [],
     "language": "python",
     "metadata": {},
     "outputs": []
    },
    {
     "cell_type": "code",
     "collapsed": false,
     "input": [],
     "language": "python",
     "metadata": {},
     "outputs": []
    },
    {
     "cell_type": "code",
     "collapsed": false,
     "input": [],
     "language": "python",
     "metadata": {},
     "outputs": []
    },
    {
     "cell_type": "code",
     "collapsed": false,
     "input": [],
     "language": "python",
     "metadata": {},
     "outputs": []
    },
    {
     "cell_type": "code",
     "collapsed": false,
     "input": [],
     "language": "python",
     "metadata": {},
     "outputs": []
    },
    {
     "cell_type": "code",
     "collapsed": false,
     "input": [],
     "language": "python",
     "metadata": {},
     "outputs": []
    },
    {
     "cell_type": "code",
     "collapsed": false,
     "input": [],
     "language": "python",
     "metadata": {},
     "outputs": []
    },
    {
     "cell_type": "code",
     "collapsed": false,
     "input": [],
     "language": "python",
     "metadata": {},
     "outputs": []
    },
    {
     "cell_type": "code",
     "collapsed": false,
     "input": [],
     "language": "python",
     "metadata": {},
     "outputs": []
    },
    {
     "cell_type": "code",
     "collapsed": false,
     "input": [],
     "language": "python",
     "metadata": {},
     "outputs": []
    },
    {
     "cell_type": "code",
     "collapsed": false,
     "input": [],
     "language": "python",
     "metadata": {},
     "outputs": []
    },
    {
     "cell_type": "code",
     "collapsed": false,
     "input": [],
     "language": "python",
     "metadata": {},
     "outputs": []
    },
    {
     "cell_type": "code",
     "collapsed": false,
     "input": [],
     "language": "python",
     "metadata": {},
     "outputs": []
    }
   ],
   "metadata": {}
  }
 ]
}
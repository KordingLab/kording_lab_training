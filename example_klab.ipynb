{
 "metadata": {
  "name": "",
  "signature": "sha256:03280fd90f6219f913b25563f0a8868b937a3c06216da677ba085c48e517994a"
 },
 "nbformat": 3,
 "nbformat_minor": 0,
 "worksheets": [
  {
   "cells": [
    {
     "cell_type": "code",
     "collapsed": false,
     "input": [
      "%matplotlib inline"
     ],
     "language": "python",
     "metadata": {},
     "outputs": [],
     "prompt_number": 1
    },
    {
     "cell_type": "heading",
     "level": 1,
     "metadata": {},
     "source": [
      "Spark Context"
     ]
    },
    {
     "cell_type": "code",
     "collapsed": false,
     "input": [
      "sc"
     ],
     "language": "python",
     "metadata": {},
     "outputs": [
      {
       "metadata": {},
       "output_type": "pyout",
       "prompt_number": 2,
       "text": [
        "<pyspark.context.SparkContext at 0x2abedb7f1750>"
       ]
      }
     ],
     "prompt_number": 2
    },
    {
     "cell_type": "heading",
     "level": 1,
     "metadata": {},
     "source": [
      "Word Count Example"
     ]
    },
    {
     "cell_type": "code",
     "collapsed": false,
     "input": [
      "text = sc.textFile('README.md')"
     ],
     "language": "python",
     "metadata": {},
     "outputs": [],
     "prompt_number": 4
    },
    {
     "cell_type": "code",
     "collapsed": false,
     "input": [
      "text_count = text.flatMap(lambda x: x.split())"
     ],
     "language": "python",
     "metadata": {},
     "outputs": [],
     "prompt_number": 6
    },
    {
     "cell_type": "code",
     "collapsed": false,
     "input": [
      "text_count.take(10)"
     ],
     "language": "python",
     "metadata": {},
     "outputs": [
      {
       "metadata": {},
       "output_type": "pyout",
       "prompt_number": 8,
       "text": [
        "[u'#',\n",
        " u'Apache',\n",
        " u'Spark',\n",
        " u'Spark',\n",
        " u'is',\n",
        " u'a',\n",
        " u'fast',\n",
        " u'and',\n",
        " u'general',\n",
        " u'cluster']"
       ]
      }
     ],
     "prompt_number": 8
    },
    {
     "cell_type": "code",
     "collapsed": false,
     "input": [
      "text_tuple = text_count.map(lambda x: (x, 1))"
     ],
     "language": "python",
     "metadata": {},
     "outputs": [],
     "prompt_number": 13
    },
    {
     "cell_type": "code",
     "collapsed": false,
     "input": [
      "text_tuple.take(10)"
     ],
     "language": "python",
     "metadata": {},
     "outputs": [
      {
       "metadata": {},
       "output_type": "pyout",
       "prompt_number": 14,
       "text": [
        "[(u'#', 1),\n",
        " (u'Apache', 1),\n",
        " (u'Spark', 1),\n",
        " (u'Spark', 1),\n",
        " (u'is', 1),\n",
        " (u'a', 1),\n",
        " (u'fast', 1),\n",
        " (u'and', 1),\n",
        " (u'general', 1),\n",
        " (u'cluster', 1)]"
       ]
      }
     ],
     "prompt_number": 14
    },
    {
     "cell_type": "code",
     "collapsed": false,
     "input": [
      "text_reduce = text_tuple.reduceByKey(lambda a,b: a+b)"
     ],
     "language": "python",
     "metadata": {},
     "outputs": [],
     "prompt_number": 15
    },
    {
     "cell_type": "code",
     "collapsed": false,
     "input": [
      "text_reduce.take(10)"
     ],
     "language": "python",
     "metadata": {},
     "outputs": [
      {
       "metadata": {},
       "output_type": "pyout",
       "prompt_number": 16,
       "text": [
        "[(u'email,', 1),\n",
        " (u'webpage', 1),\n",
        " (u'when', 3),\n",
        " (u'`libraryDependencies`:', 1),\n",
        " (u'not', 2),\n",
        " (u'including', 2),\n",
        " (u'computation', 1),\n",
        " (u'file', 1),\n",
        " (u'using:', 1),\n",
        " (u'Scala,', 1)]"
       ]
      }
     ],
     "prompt_number": 16
    },
    {
     "cell_type": "heading",
     "level": 1,
     "metadata": {},
     "source": [
      "Stochastic Gradient Descent - Logistic Regression"
     ]
    },
    {
     "cell_type": "markdown",
     "metadata": {},
     "source": [
      "Import numpy library"
     ]
    },
    {
     "cell_type": "code",
     "collapsed": false,
     "input": [
      "import numpy as np"
     ],
     "language": "python",
     "metadata": {},
     "outputs": [],
     "prompt_number": 17
    },
    {
     "cell_type": "markdown",
     "metadata": {},
     "source": [
      "Load Handwritten Digit Dataset"
     ]
    },
    {
     "cell_type": "code",
     "collapsed": false,
     "input": [
      "Data = sc.textFile('PATH_TO/train.csv')\n",
      "print Data"
     ],
     "language": "python",
     "metadata": {},
     "outputs": [
      {
       "output_type": "stream",
       "stream": "stdout",
       "text": [
        "/home/tal138/Handwritten/train.csv MappedRDD[15] at textFile at NativeMethodAccessorImpl.java:-2\n"
       ]
      }
     ],
     "prompt_number": 18
    },
    {
     "cell_type": "code",
     "collapsed": false,
     "input": [
      "Data_str = Data.map(lambda x:x.split(',')).filter(lambda x: x[0] <> 'label')"
     ],
     "language": "python",
     "metadata": {},
     "outputs": [],
     "prompt_number": 20
    },
    {
     "cell_type": "code",
     "collapsed": false,
     "input": [
      "Data_actual = Data_str.map(lambda x:map(float, x)).map(lambda x: np.array(x))"
     ],
     "language": "python",
     "metadata": {},
     "outputs": [],
     "prompt_number": 22
    },
    {
     "cell_type": "code",
     "collapsed": false,
     "input": [
      "Data_actual"
     ],
     "language": "python",
     "metadata": {},
     "outputs": [
      {
       "metadata": {},
       "output_type": "pyout",
       "prompt_number": 25,
       "text": [
        "PythonRDD[19] at RDD at PythonRDD.scala:43"
       ]
      }
     ],
     "prompt_number": 25
    },
    {
     "cell_type": "code",
     "collapsed": false,
     "input": [
      "import matplotlib.pyplot as plt\n",
      "img = Data_actual.take(15)[10][1::].reshape(28,28)\n",
      "plt.imshow(img, cmap='gray')\n",
      "plt.axis('off')\n",
      "plt.show()"
     ],
     "language": "python",
     "metadata": {},
     "outputs": [
      {
       "metadata": {},
       "output_type": "display_data",
       "png": "[encoded data removed]",
       "text": [
        "<matplotlib.figure.Figure at 0x2abefefc0990>"
       ]
      }
     ],
     "prompt_number": 29
    },
    {
     "cell_type": "code",
     "collapsed": false,
     "input": [
      "Data_filt = Data_actual.filter(lambda x: x[0] <= 1.0) # filter only digits 0, 1"
     ],
     "language": "python",
     "metadata": {},
     "outputs": [],
     "prompt_number": 30
    },
    {
     "cell_type": "code",
     "collapsed": false,
     "input": [
      "%timeit Data_filt.count() # count number of training"
     ],
     "language": "python",
     "metadata": {},
     "outputs": [
      {
       "output_type": "stream",
       "stream": "stdout",
       "text": [
        "1 loops, best of 3: 6.23 s per loop\n"
       ]
      }
     ],
     "prompt_number": 31
    },
    {
     "cell_type": "code",
     "collapsed": false,
     "input": [
      "Data_filt.cache()"
     ],
     "language": "python",
     "metadata": {},
     "outputs": [
      {
       "metadata": {},
       "output_type": "pyout",
       "prompt_number": 32,
       "text": [
        "PythonRDD[29] at RDD at PythonRDD.scala:43"
       ]
      }
     ],
     "prompt_number": 32
    },
    {
     "cell_type": "code",
     "collapsed": false,
     "input": [
      "%timeit Data_filt.count()"
     ],
     "language": "python",
     "metadata": {},
     "outputs": [
      {
       "output_type": "stream",
       "stream": "stdout",
       "text": [
        "1 loops, best of 3: 142 ms per loop\n"
       ]
      }
     ],
     "prompt_number": 33
    },
    {
     "cell_type": "code",
     "collapsed": false,
     "input": [
      "Data_filt.count()"
     ],
     "language": "python",
     "metadata": {},
     "outputs": [
      {
       "metadata": {},
       "output_type": "pyout",
       "prompt_number": 36,
       "text": [
        "8816"
       ]
      }
     ],
     "prompt_number": 36
    },
    {
     "cell_type": "heading",
     "level": 2,
     "metadata": {},
     "source": [
      "Run Stochastic Gradient Descent"
     ]
    },
    {
     "cell_type": "markdown",
     "metadata": {},
     "source": [
      "Sigmoid function:\n",
      "$$ h_\\theta (x) = \\frac{1}{1/ (1 + \\exp (-\\theta^T x))}$$\n",
      "Cost of Logistic Regression:\n",
      "$$J(\\theta) = -\\frac{1}{m} [ \\sum\\limits_{i=1}^m \\log h_\\theta (x^{(i)}) + (1 - y^{(i)}) \\log (1 - h_\\theta (x^{(i)}))]$$\n",
      "Gradient Descent:\n",
      "$$\\theta_j := \\theta_j - \\alpha \\sum\\limits_{i=1}^m (h_\\theta (x^{(i)}) - y^{(i)}) x_j^{(i)})$$"
     ]
    },
    {
     "cell_type": "code",
     "collapsed": false,
     "input": [
      "D = len(Data_filt.take(1)[0]) - 1 # dimension of data\n",
      "m = Data_filt.count()\n",
      "w = (np.random.ranf(size = D)-0.5)/1000.\n",
      "print \"Dimension\", D"
     ],
     "language": "python",
     "metadata": {},
     "outputs": [
      {
       "output_type": "stream",
       "stream": "stdout",
       "text": [
        "Dimension 784\n"
       ]
      }
     ],
     "prompt_number": 44
    },
    {
     "cell_type": "code",
     "collapsed": false,
     "input": [
      "def sigmoid(x):\n",
      "    return 1/(1 + np.exp(-x))\n",
      "\n",
      "def grad_logistic(p):\n",
      "    return (sigmoid(w.dot(p[1::]))-p[0]) * p[1::]\n",
      "\n",
      "def compute_cost(p):\n",
      "    return (-1/m)*(np.log(sigmoid(w.dot(p[1::]))) + (1 - p[0])*np.log(1 - sigmoid(w.dot(p[1::]))))"
     ],
     "language": "python",
     "metadata": {},
     "outputs": [],
     "prompt_number": 38
    },
    {
     "cell_type": "code",
     "collapsed": false,
     "input": [
      "ITERATIONS = 20\n",
      "alpha = 10**(-3)\n",
      "J = []\n",
      "\n",
      "for i in range(ITERATIONS):\n",
      "    gradient = Data_filt.map(grad_logistic).reduce(lambda a, b: a + b)\n",
      "    w -= (alpha/m)*gradient\n",
      "    cost = Data_filt.map(compute_cost).sum()\n",
      "    J.append(cost)\n"
     ],
     "language": "python",
     "metadata": {},
     "outputs": [],
     "prompt_number": 46
    },
    {
     "cell_type": "code",
     "collapsed": false,
     "input": [
      "plt.plot(J)\n",
      "plt.xlabel('iteration')\n",
      "plt.ylabel('log-likelihood')\n",
      "plt.show()"
     ],
     "language": "python",
     "metadata": {},
     "outputs": [
      {
       "metadata": {},
       "output_type": "display_data",
       "png": "[encoded data removed]",
       "text": [
        "<matplotlib.figure.Figure at 0x2abeff1f84d0>"
       ]
      }
     ],
     "prompt_number": 47
    },
    {
     "cell_type": "code",
     "collapsed": false,
     "input": [
      "plt.plot(w)\n",
      "plt.xlabel('Dimension')\n",
      "plt.ylabel('Amplitude of weight')\n",
      "plt.show()"
     ],
     "language": "python",
     "metadata": {},
     "outputs": [
      {
       "metadata": {},
       "output_type": "display_data",
       "png": "[encoded data removed]",
       "text": [
        "<matplotlib.figure.Figure at 0x2abeff2570d0>"
       ]
      }
     ],
     "prompt_number": 48
    },
    {
     "cell_type": "code",
     "collapsed": false,
     "input": [
      "plt.imshow(w.reshape(28,28), cmap='gray')"
     ],
     "language": "python",
     "metadata": {},
     "outputs": [
      {
       "metadata": {},
       "output_type": "pyout",
       "prompt_number": 52,
       "text": [
        "<matplotlib.image.AxesImage at 0x2abeff2e56d0>"
       ]
      },
      {
       "metadata": {},
       "output_type": "display_data",
       "png": "[encoded data removed]",
       "text": [
        "<matplotlib.figure.Figure at 0x2abefefa65d0>"
       ]
      }
     ],
     "prompt_number": 52
    },
    {
     "cell_type": "code",
     "collapsed": false,
     "input": [
      "X = Data_filt.map(lambda x: x[1::]).collect()"
     ],
     "language": "python",
     "metadata": {},
     "outputs": [],
     "prompt_number": 49
    },
    {
     "cell_type": "code",
     "collapsed": false,
     "input": [
      "pred = np.round(sigmoid(np.dot(X, np.atleast_2d(w).T))) # prediction"
     ],
     "language": "python",
     "metadata": {},
     "outputs": [],
     "prompt_number": 53
    },
    {
     "cell_type": "code",
     "collapsed": false,
     "input": [
      "i = 100\n",
      "print \"Predicted number = \", pred[i][0]\n",
      "plt.imshow(X[i].reshape(28,28), cmap='gray')\n",
      "plt.axis('off')\n",
      "plt.show()"
     ],
     "language": "python",
     "metadata": {},
     "outputs": [
      {
       "output_type": "stream",
       "stream": "stdout",
       "text": [
        "Predicted number =  1.0\n"
       ]
      },
      {
       "metadata": {},
       "output_type": "display_data",
       "png": "[encoded data removed]",
       "text": [
        "<matplotlib.figure.Figure at 0x2abeff2d7f10>"
       ]
      }
     ],
     "prompt_number": 58
    },
    {
     "cell_type": "heading",
     "level": 2,
     "metadata": {},
     "source": [
      "SCIKIT LEARN"
     ]
    },
    {
     "cell_type": "code",
     "collapsed": false,
     "input": [
      "from sklearn import linear_model"
     ],
     "language": "python",
     "metadata": {},
     "outputs": []
    },
    {
     "cell_type": "code",
     "collapsed": false,
     "input": [
      "lr = linear_model.LogisticRegression(fit_intercept=False,\n",
      "                                     C=100000)"
     ],
     "language": "python",
     "metadata": {},
     "outputs": []
    },
    {
     "cell_type": "code",
     "collapsed": false,
     "input": [
      "label = Data_filt.map(lambda x: x[0]).collect()"
     ],
     "language": "python",
     "metadata": {},
     "outputs": []
    },
    {
     "cell_type": "code",
     "collapsed": false,
     "input": [
      "X = Data_filt.map(lambda x: x[1::]).collect()"
     ],
     "language": "python",
     "metadata": {},
     "outputs": []
    },
    {
     "cell_type": "code",
     "collapsed": false,
     "input": [
      "lr.fit(X, label)"
     ],
     "language": "python",
     "metadata": {},
     "outputs": []
    },
    {
     "cell_type": "code",
     "collapsed": false,
     "input": [
      "i = 70\n",
      "print \"Predicted number = \", lr.predict(X[i])[0]\n",
      "plt.imshow(X[i].reshape(28,28), cmap='gray')\n",
      "plt.show()"
     ],
     "language": "python",
     "metadata": {},
     "outputs": []
    },
    {
     "cell_type": "code",
     "collapsed": false,
     "input": [
      "plt.plot(lr.coef_[0])"
     ],
     "language": "python",
     "metadata": {},
     "outputs": []
    },
    {
     "cell_type": "code",
     "collapsed": false,
     "input": [
      "plt.plot(w)"
     ],
     "language": "python",
     "metadata": {},
     "outputs": []
    }
   ],
   "metadata": {}
  }
 ]
}
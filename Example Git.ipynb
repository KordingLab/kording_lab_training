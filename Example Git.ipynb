{
 "metadata": {
  "name": "",
  "signature": "sha256:222f1f7e62f274909f62a8e3ff713137669f41cc1dd9dda03666c233ed770759"
 },
 "nbformat": 3,
 "nbformat_minor": 0,
 "worksheets": [
  {
   "cells": [
    {
     "cell_type": "markdown",
     "metadata": {},
     "source": [
      "Add markdown"
     ]
    },
    {
     "cell_type": "heading",
     "level": 1,
     "metadata": {},
     "source": [
      "Header!!"
     ]
    },
    {
     "cell_type": "code",
     "collapsed": false,
     "input": [
     ],
     "language": "python",
     "metadata": {},
     "outputs": [
      {
       "html": [
        "<link href='http://fonts.googleapis.com/css?family=Fenix' rel='stylesheet' type='text/css'>\n",
        "<link href='http://fonts.googleapis.com/css?family=Alegreya+Sans:100,300,400,500,700,800,900,100italic,300italic,400italic,500italic,700italic,800italic,900italic' rel='stylesheet' type='text/css'>\n",
        "<link href='http://fonts.googleapis.com/css?family=Source+Code+Pro:300,400' rel='stylesheet' type='text/css'>\n",
        "<style>\n",
        "@font-face {\n",
        "    font-family: \"Computer Modern\";\n",
        "    src: url('http://mirrors.ctan.org/fonts/cm-unicode/fonts/otf/cmunss.otf');\n",
        "}\n",
        "div.cell{\n",
        "    width:800px;\n",
        "    margin-left:16% !important;\n",
        "    margin-right:auto;\n",
        "}\n",
        "h1 {\n",
        "    font-family: 'Alegreya Sans', sans-serif;\n",
        "}\n",
        "h2 {\n",
        "    font-family: 'Fenix', serif;\n",
        "}\n",
        "h3{\n",
        "    font-family: 'Fenix', serif;\n",
        "    margin-top:12px;\n",
        "    margin-bottom: 3px;\n",
        "}\n",
        "h4{\n",
        "    font-family: 'Fenix', serif;\n",
        "}\n",
        "h5 {\n",
        "    font-family: 'Alegreya Sans', sans-serif;\n",
        "}\n",
        "div.text_cell_render{\n",
        "    font-family: 'Alegreya Sans',Computer Modern, \"Helvetica Neue\", Arial, Helvetica, Geneva, sans-serif;\n",
        "    line-height: 135%;\n",
        "    font-size: 120%;\n",
        "    width:600px;\n",
        "    margin-left:auto;\n",
        "    margin-right:auto;\n",
        "}\n",
        ".CodeMirror{\n",
        "    font-family: \"Source Code Pro\";\n",
        "    font-size: 90%;\n",
        "}\n",
        "/*    .prompt{\n",
        "        display: None;\n",
        "    }*/\n",
        ".text_cell_render h1 {\n",
        "    font-weight: 200;\n",
        "    font-size: 50pt;\n",
        "    line-height: 100%;\n",
        "    color:#CD2305;\n",
        "    margin-bottom: 0.5em;\n",
        "    margin-top: 0.5em;\n",
        "    display: block;\n",
        "}\n",
        ".text_cell_render h5 {\n",
        "    font-weight: 300;\n",
        "    font-size: 16pt;\n",
        "    color: #CD2305;\n",
        "    font-style: italic;\n",
        "    margin-bottom: .5em;\n",
        "    margin-top: 0.5em;\n",
        "    display: block;\n",
        "}\n",
        "\n",
        ".warning{\n",
        "    color: rgb( 240, 20, 20 )\n",
        "}\n",
        "</style>\n",
        "<script>\n",
        "MathJax.Hub.Config({\n",
        "                      TeX: {\n",
        "                      extensions: [\"AMSmath.js\"]\n",
        "                  },\n",
        "                      tex2jax: {\n",
        "                          inlineMath: [ ['$','$'], [\"\\\\(\",\"\\\\)\"] ],\n",
        "                          displayMath: [ ['$$','$$'], [\"\\\\[\",\"\\\\]\"] ]\n",
        "                      },\n",
        "                      displayAlign: 'center', // Change this to 'center' to center equations.\n",
        "                                                 \"HTML-CSS\": {\n",
        "                          styles: {'.MathJax_Display': {\"margin\": 4}}\n",
        "                      }\n",
        "                  });\n",
        "</script>"
       ],
       "metadata": {},
       "output_type": "pyout",
       "prompt_number": 1,
       "text": [
        "<IPython.core.display.HTML at 0x10819f9d0>"
       ]
      }
     ],
     "prompt_number": 1
    }
   ],
   "metadata": {}
  }
 ]
}

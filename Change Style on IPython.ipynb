{
 "metadata": {
  "name": "",
  "signature": "sha256:19da7a183a4eed28540a509522fb8edb1f336f6a7d1be0a479cfe7fd7b47aa1e"
 },
 "nbformat": 3,
 "nbformat_minor": 0,
 "worksheets": [
  {
   "cells": [
    {
     "cell_type": "heading",
     "level": 1,
     "metadata": {},
     "source": [
      "Example Google Style Notebook!"
     ]
    },
    {
     "cell_type": "code",
     "collapsed": false,
     "input": [
      "import requests\n",
      "from IPython.core.display import HTML\n",
      "link = requests.get(\"https://raw.githubusercontent.com/nsonnad/base16-ipython-notebook/master/base16-google-light.css\")\n",
      "HTML(\"<style>\" + link.content + \"</style>\")"
     ],
     "language": "python",
     "metadata": {},
     "outputs": [
      {
       "html": [
        "<style>/*\n",
        "\n",
        "    Name:       Base16 Google Light\n",
        "    Author:     Seth Wright (http://sethawright.com)\n",
        "\n",
        "    CodeMirror template adapted for IPython Notebook by Nikhil Sonnad (https://github.com/nsonnad/base16-ipython-notebook)\n",
        "    CodeMirror template by Jan T. Sott (https://github.com/idleberg/base16-chrome-devtools)\n",
        "    Original Base16 color scheme by Chris Kempson (https://github.com/chriskempson/base16)\n",
        "\n",
        "*/\n",
        "\n",
        "/* Uncomment to use a custom font\n",
        "div#notebook, div.CodeMirror, div.output_area pre, div.output_wrapper, div.prompt {\n",
        "  font-family: 'Custom Font Name', monospace !important;\n",
        "}\n",
        "*/\n",
        "\n",
        "/* GLOBALS */\n",
        "body {background-color: #ffffff;}\n",
        "a {color: #3971ED;}\n",
        "\n",
        "/* INTRO PAGE */\n",
        ".toolbar_info, .list-container {color: #282a2e;}\n",
        "\n",
        "/* NOTEBOOK */\n",
        "\n",
        "/* comment out this line to bring the toolbar back */\n",
        "div#maintoolbar, div#header {display: none !important;}\n",
        "\n",
        "div#notebook {border-top: none;}\n",
        "\n",
        "div.input_prompt {color: #A36AC7;}\n",
        "div.output_prompt {color: #3971ED;}\n",
        "div.input_area {\n",
        "  border-radius: 0px;\n",
        "  border: 1px solid #c5c8c6;\n",
        "}\n",
        "div.output_area pre {font-weight: normal; color: #373b41;}\n",
        "div.output_subarea {font-weight: normal; color: #373b41;}\n",
        "\n",
        ".rendered_html table, .rendered_html th, .rendered_html tr, .rendered_html td {\n",
        "  border: 1px  #969896 solid;\n",
        "  color: #969896;\n",
        "}\n",
        "div.output_html { font-family: sans-serif; }\n",
        "table.dataframe tr {border: 1px #373b41;}\n",
        "\n",
        "div.cell.selected {border-radius: 0px;}\n",
        "div.cell.edit_mode {border-radius: 0px; border: thin solid #3971ED;}\n",
        "div.text_cell_render, div.output_html {color: #373b41;}\n",
        "\n",
        "span.ansiblack {color: #282a2e;}\n",
        "span.ansiblue {color: #3971ED;}\n",
        "span.ansigray {color: #b4b7b4;}\n",
        "span.ansigreen {color: #198844;}\n",
        "span.ansipurple {color: #A36AC7;}\n",
        "span.ansired {color: #CC342B;}\n",
        "span.ansiyellow {color: #FBA922;}\n",
        "\n",
        "div.output_stderr {background-color: #CC342B;}\n",
        "div.output_stderr pre {color: #e0e0e0;}\n",
        "\n",
        ".cm-s-ipython.CodeMirror {background: #ffffff; color: #282a2e;}\n",
        ".cm-s-ipython div.CodeMirror-selected {background: #e0e0e0 !important;}\n",
        ".cm-s-ipython .CodeMirror-gutters {background: #ffffff; border-right: 0px;}\n",
        ".cm-s-ipython .CodeMirror-linenumber {color: #b4b7b4;}\n",
        ".cm-s-ipython .CodeMirror-cursor {border-left: 1px solid #969896 !important;}\n",
        "\n",
        ".cm-s-ipython span.cm-comment {color: #3971ED;}\n",
        ".cm-s-ipython span.cm-atom {color: #A36AC7;}\n",
        ".cm-s-ipython span.cm-number {color: #A36AC7;}\n",
        "\n",
        ".cm-s-ipython span.cm-property, .cm-s-ipython span.cm-attribute {color: #198844;}\n",
        ".cm-s-ipython span.cm-keyword {color: #CC342B;}\n",
        ".cm-s-ipython span.cm-string {color: #FBA922;}\n",
        ".cm-s-ipython span.cm-operator {color: #3971ED;}\n",
        ".cm-s-ipython span.cm-builtin {color: #A36AC7;}\n",
        "\n",
        ".cm-s-ipython span.cm-variable {color: #198844;}\n",
        ".cm-s-ipython span.cm-variable-2 {color: #3971ED;}\n",
        ".cm-s-ipython span.cm-def {color: #F96A38;}\n",
        ".cm-s-ipython span.cm-error {background: #CC342B; color: #969896;}\n",
        ".cm-s-ipython span.cm-bracket {color: #373b41;}\n",
        ".cm-s-ipython span.cm-tag {color: #CC342B;}\n",
        ".cm-s-ipython span.cm-link {color: #A36AC7;}\n",
        "\n",
        ".cm-s-ipython .CodeMirror-matchingbracket { text-decoration: underline; color: #282a2e !important;}\n",
        "</style>"
       ],
       "metadata": {},
       "output_type": "pyout",
       "prompt_number": 28,
       "text": [
        "<IPython.core.display.HTML at 0x10bfb4110>"
       ]
      }
     ],
     "prompt_number": 28
    },
    {
     "cell_type": "code",
     "collapsed": false,
     "input": [
      "def change_theme(url):\n",
      "    link = requests.get(url)\n",
      "    HTML(\"<style>\" + link.content + \"</style>\")"
     ],
     "language": "python",
     "metadata": {},
     "outputs": [],
     "prompt_number": 26
    },
    {
     "cell_type": "code",
     "collapsed": false,
     "input": [],
     "language": "python",
     "metadata": {},
     "outputs": []
    }
   ],
   "metadata": {}
  }
 ]
}